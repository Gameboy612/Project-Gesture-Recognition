{
 "cells": [
  {
   "cell_type": "code",
   "execution_count": 1,
   "metadata": {},
   "outputs": [],
   "source": [
    "import cv2\n",
    "import numpy as np\n",
    "\n",
    "import time"
   ]
  },
  {
   "cell_type": "code",
   "execution_count": 2,
   "metadata": {},
   "outputs": [],
   "source": [
    "def getCamera():\n",
    "    # This continuously tries and grab the camera every 1 second until it's successful\n",
    "\n",
    "    \n",
    "    while True:\n",
    "        # Get the camera (0 is the index of the selected camera)\n",
    "        capture = cv2.VideoCapture(0)\n",
    "\n",
    "        capture.set(cv2.CAP_PROP_FRAME_WIDTH, 640)\n",
    "        capture.set(cv2.CAP_PROP_FRAME_HEIGHT, 480)\n",
    "        ret, frame = capture.read()\n",
    "\n",
    "        if ret:\n",
    "            return frame\n",
    "\n",
    "        capture.release()\n",
    "        time.sleep(1)"
   ]
  },
  {
   "cell_type": "code",
   "execution_count": 3,
   "metadata": {},
   "outputs": [],
   "source": [
    "def showFrame(frame, name='Frame'):\n",
    "    cv2.imshow(name, frame)\n",
    "    cv2.waitKey(0)\n",
    "    cv2.destroyAllWindows()"
   ]
  },
  {
   "cell_type": "code",
   "execution_count": 4,
   "metadata": {},
   "outputs": [],
   "source": [
    "# showFeed(getCamera())"
   ]
  },
  {
   "cell_type": "code",
   "execution_count": 5,
   "metadata": {},
   "outputs": [
    {
     "ename": "",
     "evalue": "",
     "output_type": "error",
     "traceback": [
      "\u001b[1;31mCannot execute code, session has been disposed. Please try restarting the Kernel."
     ]
    },
    {
     "ename": "",
     "evalue": "",
     "output_type": "error",
     "traceback": [
      "\u001b[1;31mThe Kernel crashed while executing code in the the current cell or a previous cell. Please review the code in the cell(s) to identify a possible cause of the failure. Click <a href='https://aka.ms/vscodeJupyterKernelCrash'>here</a> for more info. View Jupyter <a href='command:jupyter.viewOutput'>log</a> for further details."
     ]
    }
   ],
   "source": [
    "LOWER_SKIN = np.array([130, 20, 70], dtype=np.uint8)\n",
    "UPPER_SKIN = np.array([170, 255, 255], dtype=np.uint8)\n",
    "\n",
    "while True:\n",
    "    frame = getCamera()\n",
    "    showFrame(frame, 'Frame')\n",
    "\n",
    "    hsv_frame = cv2.cvtColor(frame, cv2.COLOR_BGR2HSV)\n",
    "\n",
    "    skin_mask = cv2.inRange(hsv_frame, LOWER_SKIN, UPPER_SKIN)\n",
    "\n",
    "    showFrame(skin_mask, 'Filtered Frame')\n",
    "\n",
    "    key = cv2.waitKey(1) & 0xFF\n",
    "    if key == ord('q'):\n",
    "        break\n",
    "\n"
   ]
  }
 ],
 "metadata": {
  "kernelspec": {
   "display_name": "Python 3",
   "language": "python",
   "name": "python3"
  },
  "language_info": {
   "codemirror_mode": {
    "name": "ipython",
    "version": 3
   },
   "file_extension": ".py",
   "mimetype": "text/x-python",
   "name": "python",
   "nbconvert_exporter": "python",
   "pygments_lexer": "ipython3",
   "version": "3.10.5"
  },
  "orig_nbformat": 4
 },
 "nbformat": 4,
 "nbformat_minor": 2
}
