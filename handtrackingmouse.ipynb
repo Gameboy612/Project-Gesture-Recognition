{
 "cells": [
  {
   "cell_type": "code",
   "execution_count": 11,
   "metadata": {},
   "outputs": [],
   "source": [
    "import cv2\n",
    "import mediapipe as mp\n",
    "\n",
    "import win32api, win32con\n",
    "import time\n",
    "import threading"
   ]
  },
  {
   "cell_type": "code",
   "execution_count": 12,
   "metadata": {},
   "outputs": [],
   "source": [
    "def getLeftHandLM(result):\n",
    "    for id, classification in enumerate(result.multi_handedness):\n",
    "        if classification.classification[0].label == \"Left\":\n",
    "            return result.multi_hand_landmarks[id].landmark\n",
    "    return None\n",
    "\n",
    "def getRightHandLM(result):\n",
    "    for id, classification in enumerate(result.multi_handedness):\n",
    "        print(classification.classification)\n",
    "        if classification.classification[0].label == \"Right\":\n",
    "            return result.multi_hand_landmarks[id].landmark\n",
    "    return None\n"
   ]
  },
  {
   "cell_type": "code",
   "execution_count": 13,
   "metadata": {},
   "outputs": [],
   "source": [
    "def lerp_cursor(x1, y1, x2, y2, t1):\n",
    "    t0 = time.time()\n",
    "\n",
    "    def timelerp(a, b):\n",
    "        if t1 - t0 == 0:\n",
    "            return (a, b)\n",
    "        return (a + (time.time() - t0) / (t1 - t0) * (b - a))\n",
    "\n",
    "    while time.time() < t1:\n",
    "        pos = (int(timelerp(x1, x2)), int(timelerp(y1, y2)))\n",
    "        win32api.SetCursorPos(pos)"
   ]
  },
  {
   "cell_type": "code",
   "execution_count": 30,
   "metadata": {},
   "outputs": [],
   "source": [
    "cap = cv2.VideoCapture(0)\n",
    "mpHands = mp.solutions.hands\n",
    "hands = mpHands.Hands(\n",
    "    min_detection_confidence=0.3,\n",
    "    max_num_hands = 1\n",
    ")\n",
    "mpDraw = mp.solutions.drawing_utils\n",
    "\n",
    "INVERT_X = True\n",
    "INVERT_Y = False\n",
    "\n",
    "t0 = time.time()\n",
    "while True:\n",
    "    dt = time.time() - t0\n",
    "    t0 = time.time()\n",
    "    ret, img = cap.read()\n",
    "    if ret:\n",
    "        imgRGB = cv2.cvtColor(img, cv2.COLOR_BGR2RGB)\n",
    "        result = hands.process(imgRGB)\n",
    "        \n",
    "        resultMLM = result.multi_hand_landmarks\n",
    "        if resultMLM:\n",
    "            for handLms in resultMLM:\n",
    "                mpDraw.draw_landmarks(img, handLms, mpHands.HAND_CONNECTIONS)\n",
    "        \n",
    "            # Check for right hand palm location\n",
    "            rhLM = result.multi_hand_landmarks[0].landmark\n",
    "            if rhLM:\n",
    "                def scaleMousePosition(x, invert, scale=1.5):\n",
    "                    if invert:\n",
    "                        return (1 - x) * scale + (1 - scale) / 2\n",
    "                    return x * scale + (1 - scale) / 2\n",
    "\n",
    "                x = int(scaleMousePosition(rhLM[mpHands.HandLandmark.WRIST].x, INVERT_X) * win32api.GetSystemMetrics(0))\n",
    "                y = int(scaleMousePosition(rhLM[mpHands.HandLandmark.WRIST].y, INVERT_Y) * win32api.GetSystemMetrics(1))\n",
    "\n",
    "                if not (win32api.GetCursorPos()[0] - x < 20 and win32api.GetCursorPos()[1] - y < 20):\n",
    "                    # Lerping if far away\n",
    "                    lerp_thread = threading.Thread(target=lerp_cursor, args=(win32api.GetCursorPos()[0], win32api.GetCursorPos()[1], x, y, t0 + dt))\n",
    "                    lerp_thread.start()\n",
    "                # elif win32api.GetCursorPos()[0] - x + win32api.GetCursorPos()[1] - y > 1:\n",
    "                else:\n",
    "                    win32api.SetCursorPos((x, y))\n",
    "\n",
    "\n",
    "\n",
    "\n",
    "            \n",
    "\n",
    "        cv2.imshow('img', img)\n",
    "\n",
    "    if cv2.waitKey(1) == ord('i'):\n",
    "        INVERT_Y = not INVERT_Y\n",
    "    if cv2.waitKey(1) == ord('o'):\n",
    "        INVERT_X = not INVERT_X\n",
    "    if cv2.waitKey(1) == ord('q'):\n",
    "        break\n"
   ]
  },
  {
   "cell_type": "code",
   "execution_count": null,
   "metadata": {},
   "outputs": [
    {
     "name": "stdout",
     "output_type": "stream",
     "text": [
      "[classification {\n",
      "  index: 0\n",
      "  score: 0.9928168058395386\n",
      "  label: \"Left\"\n",
      "}\n",
      "]\n"
     ]
    }
   ],
   "source": [
    "print(result.multi_handedness)"
   ]
  },
  {
   "cell_type": "code",
   "execution_count": null,
   "metadata": {},
   "outputs": [],
   "source": []
  }
 ],
 "metadata": {
  "kernelspec": {
   "display_name": "Python 3",
   "language": "python",
   "name": "python3"
  },
  "language_info": {
   "codemirror_mode": {
    "name": "ipython",
    "version": 3
   },
   "file_extension": ".py",
   "mimetype": "text/x-python",
   "name": "python",
   "nbconvert_exporter": "python",
   "pygments_lexer": "ipython3",
   "version": "3.10.5"
  },
  "orig_nbformat": 4
 },
 "nbformat": 4,
 "nbformat_minor": 2
}
